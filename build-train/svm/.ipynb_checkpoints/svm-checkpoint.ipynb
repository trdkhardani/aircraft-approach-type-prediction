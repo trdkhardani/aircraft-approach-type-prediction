{
 "cells": [
  {
   "cell_type": "code",
   "execution_count": null,
   "id": "791e8e86",
   "metadata": {},
   "outputs": [],
   "source": [
    "import pandas as pd\n",
    "import numpy as np\n",
    "import shap\n",
    "from sklearn.model_selection import train_test_split, RandomizedSearchCV, ParameterSampler\n",
    "from sklearn.preprocessing import MultiLabelBinarizer\n",
    "from sklearn.multioutput import MultiOutputClassifier\n",
    "from sklearn.metrics import classification_report\n",
    "from sklearn.preprocessing import StandardScaler\n",
    "from sklearn.svm import SVC"
   ]
  },
  {
   "cell_type": "code",
   "execution_count": null,
   "id": "c618b8f8",
   "metadata": {},
   "outputs": [],
   "source": [
    "# load dataset\n",
    "df = pd.read_csv('../../datasets/atis_dataset_preprocessed.csv', sep=';')"
   ]
  },
  {
   "cell_type": "code",
   "execution_count": null,
   "id": "64a30752",
   "metadata": {},
   "outputs": [],
   "source": [
    "# define label columns\n",
    "label_columns = ['ILS', 'RNAV', 'RNP', 'VISUAL']\n",
    "\n",
    "# define features and targets\n",
    "X = df.drop(columns=label_columns)\n",
    "\n",
    "# one-hot encode features that are categorical\n",
    "X = pd.get_dummies(X, columns=['airport_icao', 'runway_designator_side', 'weather_phenomenon', \n",
    "                                'runway_designator_number', 'rvr_tendency', 'runway_ils_category'])"
   ]
  },
  {
   "cell_type": "code",
   "execution_count": null,
   "id": "8b9cb4fa",
   "metadata": {},
   "outputs": [],
   "source": [
    "y = df[label_columns]"
   ]
  },
  {
   "cell_type": "code",
   "execution_count": null,
   "id": "90ee378c",
   "metadata": {},
   "outputs": [],
   "source": [
    "# train-test split\n",
    "X_train, X_test, y_train, y_test = train_test_split(X, y, test_size=0.2, random_state=42)"
   ]
  },
  {
   "cell_type": "code",
   "execution_count": null,
   "id": "d3de615e",
   "metadata": {},
   "outputs": [],
   "source": [
    "# feature scaling\n",
    "scaler = StandardScaler()\n",
    "X_train_scaled = scaler.fit_transform(X_train)\n",
    "X_test_scaled = scaler.transform(X_test)"
   ]
  },
  {
   "cell_type": "code",
   "execution_count": null,
   "id": "574b8b35",
   "metadata": {},
   "outputs": [],
   "source": [
    "# build and train multi-label model\n",
    "model = MultiOutputClassifier(SVC(probability=True))\n",
    "model.fit(X_train, y_train)"
   ]
  },
  {
   "cell_type": "code",
   "execution_count": null,
   "id": "7e7ad7b6",
   "metadata": {},
   "outputs": [],
   "source": [
    "# ILS SHAP\n",
    "explainer_ILS = shap.TreeExplainer(model.estimators_[0])\n",
    "shap_ILS = explainer_ILS.shap_values(X_test)\n",
    "shap.summary_plot(shap_ILS, X_test)"
   ]
  },
  {
   "cell_type": "code",
   "execution_count": null,
   "id": "39de1b5e",
   "metadata": {},
   "outputs": [],
   "source": [
    "# RNAV SHAP\n",
    "explainer_RNAV = shap.TreeExplainer(model.estimators_[1])\n",
    "shap_RNAV = explainer_RNAV.shap_values(X_test)\n",
    "shap.summary_plot(shap_RNAV, X_test)"
   ]
  },
  {
   "cell_type": "code",
   "execution_count": null,
   "id": "d8058915",
   "metadata": {},
   "outputs": [],
   "source": [
    "# RNP SHAP\n",
    "explainer_RNP = shap.TreeExplainer(model.estimators_[2])\n",
    "shap_RNP = explainer_RNP.shap_values(X_test)\n",
    "shap.summary_plot(shap_RNP, X_test)"
   ]
  },
  {
   "cell_type": "code",
   "execution_count": null,
   "id": "2f299764",
   "metadata": {},
   "outputs": [],
   "source": [
    "# VISUAL SHAP\n",
    "explainer_VISUAL = shap.TreeExplainer(model.estimators_[3])\n",
    "shap_VISUAL = explainer_VISUAL.shap_values(X_test)\n",
    "shap.summary_plot(shap_VISUAL, X_test)"
   ]
  },
  {
   "cell_type": "code",
   "execution_count": null,
   "id": "29a88fd5",
   "metadata": {},
   "outputs": [],
   "source": [
    "# predict and evaluate\n",
    "y_pred = model.predict(X_test)\n",
    "empty_mask = y_pred.sum(axis=1) == 0\n",
    "no_predictions = np.sum(empty_mask)\n",
    "print(f\"Samples with no predicted labels: {no_predictions} out of {len(y_pred)}\")\n",
    "print(X_test[empty_mask])\n",
    "print(classification_report(y_test, y_pred, target_names=label_columns, zero_division=0))"
   ]
  },
  {
   "cell_type": "code",
   "execution_count": null,
   "id": "0aee769a",
   "metadata": {},
   "outputs": [],
   "source": []
  }
 ],
 "metadata": {
  "language_info": {
   "name": "python"
  }
 },
 "nbformat": 4,
 "nbformat_minor": 5
}
