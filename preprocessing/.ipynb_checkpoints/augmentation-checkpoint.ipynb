{
 "cells": [
  {
   "cell_type": "code",
   "execution_count": null,
   "id": "426cd59a",
   "metadata": {},
   "outputs": [],
   "source": [
    "import pandas as pd\n",
    "from sklearn.utils import resample"
   ]
  },
  {
   "cell_type": "code",
   "execution_count": null,
   "id": "2389ac6d",
   "metadata": {},
   "outputs": [],
   "source": [
    "# Load dataframe (already preprocessed to weather-only, etc)\n",
    "df = pd.read_csv(\"atis_dataset_converted.csv\", sep=\";\")\n",
    "label_cols = [\"ILS\", \"RNAV\", \"RNP\", \"VISUAL\"]"
   ]
  },
  {
   "cell_type": "code",
   "execution_count": null,
   "id": "655a0fda",
   "metadata": {},
   "outputs": [],
   "source": [
    "# Count positives per label\n",
    "positive_counts = {label: df[label].sum() for label in label_cols}\n",
    "print(\"Positives per label:\", positive_counts)"
   ]
  },
  {
   "cell_type": "code",
   "execution_count": null,
   "id": "c4f4bfb7",
   "metadata": {},
   "outputs": [],
   "source": [
    "# Find the largest class size\n",
    "max_count = max(positive_counts.values())"
   ]
  },
  {
   "cell_type": "code",
   "execution_count": null,
   "id": "8b0f0c58",
   "metadata": {},
   "outputs": [],
   "source": [
    "# oversample each label\n",
    "frames = []\n",
    "\n",
    "for label in label_cols:\n",
    "    # All rows where this label is positive (1)\n",
    "    df_pos = df[df[label] == 1]\n",
    "    # Upsample to max_count for this label (with replacement)\n",
    "    df_pos_upsampled = resample(\n",
    "        df_pos,\n",
    "        replace=True,\n",
    "        n_samples=max_count,\n",
    "        random_state=42\n",
    "    )\n",
    "    frames.append(df_pos_upsampled)"
   ]
  },
  {
   "cell_type": "code",
   "execution_count": null,
   "id": "eded1b55",
   "metadata": {},
   "outputs": [],
   "source": [
    "# Concatenate, then drop duplicates (since some rows may be positive for >1 label)\n",
    "df_balanced = pd.concat(frames).drop_duplicates().reset_index(drop=True)"
   ]
  },
  {
   "cell_type": "code",
   "execution_count": null,
   "id": "90e7a37b",
   "metadata": {},
   "outputs": [],
   "source": [
    "df_balanced = df_balanced.sample(frac=1, random_state=42)\n",
    "df_balanced.to_csv(\"atis_dataset_balanced.csv\", index=False, sep=\";\")"
   ]
  }
 ],
 "metadata": {
  "language_info": {
   "name": "python"
  }
 },
 "nbformat": 4,
 "nbformat_minor": 5
}
